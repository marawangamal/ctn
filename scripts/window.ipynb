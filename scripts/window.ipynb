{
 "cells": [
  {
   "cell_type": "code",
   "execution_count": 1,
   "id": "1038c990",
   "metadata": {},
   "outputs": [],
   "source": [
    "import torch"
   ]
  },
  {
   "cell_type": "code",
   "execution_count": 30,
   "id": "b6fbfca5",
   "metadata": {},
   "outputs": [
    {
     "name": "stdout",
     "output_type": "stream",
     "text": [
      "H: 2, T: 6, shift: 2\n",
      "Input IDs: tensor([[0, 1, 2, 3, 4, 5]])\n",
      "Input IDs (windowed): tensor([[[ 2,  3],\n",
      "         [ 3,  4],\n",
      "         [ 4,  5],\n",
      "         [ 5, -1],\n",
      "         [-1, -1],\n",
      "         [-1, -1]]])\n"
     ]
    }
   ],
   "source": [
    "# define hps\n",
    "H = 2\n",
    "T = 6   \n",
    "shift = 2\n",
    "\n",
    "\n",
    "# # (B, T) -> (B, T, H)\n",
    "input_ids = torch.arange(T).unsqueeze(0)\n",
    "input_ids_windowed = torch.stack(\n",
    "    [torch.roll(input_ids, -i - shift, dims=1) for i in range(H)], dim=-1\n",
    ")\n",
    "input_ids_windowed[input_ids_windowed < torch.arange(T).reshape(1,T,-1).repeat(1,1,H)] = -1\n",
    "print(f\"H: {H}, T: {T}, shift: {shift}\")\n",
    "print(f\"Input IDs: {input_ids}\")\n",
    "print(f\"Input IDs (windowed): {input_ids_windowed}\")"
   ]
  },
  {
   "cell_type": "code",
   "execution_count": null,
   "id": "181137f7",
   "metadata": {},
   "outputs": [],
   "source": []
  }
 ],
 "metadata": {
  "kernelspec": {
   "display_name": ".venv",
   "language": "python",
   "name": "python3"
  },
  "language_info": {
   "codemirror_mode": {
    "name": "ipython",
    "version": 3
   },
   "file_extension": ".py",
   "mimetype": "text/x-python",
   "name": "python",
   "nbconvert_exporter": "python",
   "pygments_lexer": "ipython3",
   "version": "3.10.0"
  }
 },
 "nbformat": 4,
 "nbformat_minor": 5
}
