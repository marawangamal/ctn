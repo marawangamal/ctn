{
 "cells": [
  {
   "cell_type": "code",
   "execution_count": 26,
   "id": "50a96170",
   "metadata": {},
   "outputs": [
    {
     "name": "stdout",
     "output_type": "stream",
     "text": [
      "   model pos_func  rank  val/loss\n",
      "0     cp      abs    10  0.218586\n",
      "1    mps      abs    10  0.144189\n",
      "2    moe      abs    10  0.203258\n",
      "3     cp      abs    10  0.222638\n",
      "4     cp   square    10       NaN\n",
      "5    moe   square    10       NaN\n",
      "6     cp      exp    10       NaN\n",
      "7     cp  sigmoid    10       NaN\n",
      "8    moe   square    64       NaN\n",
      "9     cp  sigmoid    64       NaN\n",
      "10    cp      exp    64       NaN\n",
      "11    cp   square    64       NaN\n",
      "12   moe  sigmoid    10       NaN\n",
      "13   moe      exp    10       NaN\n",
      "14    cp   square    10       NaN\n",
      "15   moe      exp    64       NaN\n",
      "16   moe  sigmoid    64       NaN\n"
     ]
    }
   ],
   "source": [
    "import wandb, numpy as np, pandas as pd\n",
    "\n",
    "api = wandb.Api()\n",
    "PROJECT = \"marawan-gamal/mnist-mtp\"\n",
    "KEY = \"val/loss\"\n",
    "\n",
    "rows = []\n",
    "\n",
    "for run in api.runs(PROJECT):\n",
    "    vals = []\n",
    "    for row in run.scan_history(keys=[KEY], page_size=10000):\n",
    "        v = row.get(KEY)\n",
    "        if isinstance(v, (int, float)):\n",
    "            vals.append(float(v))\n",
    "        elif isinstance(v, str):\n",
    "            try:\n",
    "                vals.append(float(v))\n",
    "            except ValueError:\n",
    "                pass\n",
    "    min_val = np.min(vals) if vals else float(\"nan\")\n",
    "    rows.append({\n",
    "        \"model\": run.config[\"model\"],\n",
    "        \"pos_func\": run.config[\"pos_func\"],\n",
    "        \"rank\": run.config[\"rank\"],\n",
    "        \"val/loss\": min_val,\n",
    "    })\n",
    "\n",
    "df = pd.DataFrame(rows)\n",
    "print(df)\n"
   ]
  },
  {
   "cell_type": "code",
   "execution_count": 29,
   "id": "ac9d223f",
   "metadata": {},
   "outputs": [
    {
     "data": {
      "text/plain": [
       "<Figure size 1000x500 with 0 Axes>"
      ]
     },
     "metadata": {},
     "output_type": "display_data"
    },
    {
     "data": {
      "image/png": "[encoded data removed]",
      "text/plain": [
       "<Figure size 1107.62x500 with 2 Axes>"
      ]
     },
     "metadata": {},
     "output_type": "display_data"
    }
   ],
   "source": [
    "import matplotlib.pyplot as plt\n",
    "import seaborn as sns\n",
    "\n",
    "plt.figure(figsize=(10,5))\n",
    "g = sns.catplot(\n",
    "    data=df, \n",
    "    x=\"model\",\n",
    "    y=\"val/loss\", \n",
    "    hue=\"pos_func\", \n",
    "    col=\"rank\", \n",
    "    # col_wrap=3, \n",
    "    kind=\"bar\"\n",
    ")\n",
    "# g._legend.remove()\n",
    "plt.ylabel(r\"$\\min \\, \\mathcal{L}_{\\mathrm{eval}}$\", fontsize=24)\n",
    "plt.xlabel(\"\")\n",
    "plt.xticks(fontsize=24)\n",
    "plt.yticks(fontsize=18)\n",
    "# plt.legend(fontsize=24, title_fontsize=24, loc='upper left', bbox_to_anchor=(1,1))\n",
    "# plt.legend([], [], frameon=False)\n",
    "plt.tight_layout(); plt.show()"
   ]
  },
  {
   "cell_type": "code",
   "execution_count": 4,
   "id": "685992cf",
   "metadata": {},
   "outputs": [
    {
     "data": {
      "text/html": [
       "<div>\n",
       "<style scoped>\n",
       "    .dataframe tbody tr th:only-of-type {\n",
       "        vertical-align: middle;\n",
       "    }\n",
       "\n",
       "    .dataframe tbody tr th {\n",
       "        vertical-align: top;\n",
       "    }\n",
       "\n",
       "    .dataframe thead th {\n",
       "        text-align: right;\n",
       "    }\n",
       "</style>\n",
       "<table border=\"1\" class=\"dataframe\">\n",
       "  <thead>\n",
       "    <tr style=\"text-align: right;\">\n",
       "      <th></th>\n",
       "      <th>lr</th>\n",
       "      <th>rank</th>\n",
       "      <th>model</th>\n",
       "      <th>epochs</th>\n",
       "      <th>pos_func</th>\n",
       "      <th>batch_size</th>\n",
       "      <th>max_samples</th>\n",
       "      <th>num_gen_images</th>\n",
       "      <th>val/loss</th>\n",
       "    </tr>\n",
       "  </thead>\n",
       "  <tbody>\n",
       "    <tr>\n",
       "      <th>0</th>\n",
       "      <td>0.001</td>\n",
       "      <td>10</td>\n",
       "      <td>cp</td>\n",
       "      <td>5</td>\n",
       "      <td>abs</td>\n",
       "      <td>32</td>\n",
       "      <td>None</td>\n",
       "      <td>10</td>\n",
       "      <td>NaN</td>\n",
       "    </tr>\n",
       "    <tr>\n",
       "      <th>1</th>\n",
       "      <td>0.001</td>\n",
       "      <td>10</td>\n",
       "      <td>mps</td>\n",
       "      <td>5</td>\n",
       "      <td>abs</td>\n",
       "      <td>32</td>\n",
       "      <td>None</td>\n",
       "      <td>10</td>\n",
       "      <td>NaN</td>\n",
       "    </tr>\n",
       "    <tr>\n",
       "      <th>2</th>\n",
       "      <td>0.001</td>\n",
       "      <td>10</td>\n",
       "      <td>moe</td>\n",
       "      <td>5</td>\n",
       "      <td>abs</td>\n",
       "      <td>32</td>\n",
       "      <td>None</td>\n",
       "      <td>10</td>\n",
       "      <td>NaN</td>\n",
       "    </tr>\n",
       "  </tbody>\n",
       "</table>\n",
       "</div>"
      ],
      "text/plain": [
       "      lr  rank model  epochs pos_func  batch_size max_samples  num_gen_images  \\\n",
       "0  0.001    10    cp       5      abs          32        None              10   \n",
       "1  0.001    10   mps       5      abs          32        None              10   \n",
       "2  0.001    10   moe       5      abs          32        None              10   \n",
       "\n",
       "   val/loss  \n",
       "0       NaN  \n",
       "1       NaN  \n",
       "2       NaN  "
      ]
     },
     "execution_count": 4,
     "metadata": {},
     "output_type": "execute_result"
    }
   ],
   "source": [
    "pd.DataFrame(rows)"
   ]
  },
  {
   "cell_type": "code",
   "execution_count": null,
   "id": "26ed4c78",
   "metadata": {},
   "outputs": [],
   "source": []
  }
 ],
 "metadata": {
  "kernelspec": {
   "display_name": ".venv",
   "language": "python",
   "name": "python3"
  },
  "language_info": {
   "codemirror_mode": {
    "name": "ipython",
    "version": 3
   },
   "file_extension": ".py",
   "mimetype": "text/x-python",
   "name": "python",
   "nbconvert_exporter": "python",
   "pygments_lexer": "ipython3",
   "version": "3.10.0"
  }
 },
 "nbformat": 4,
 "nbformat_minor": 5
}
