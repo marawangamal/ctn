{
 "cells": [
  {
   "cell_type": "code",
   "execution_count": 18,
   "id": "f4945c70",
   "metadata": {},
   "outputs": [],
   "source": [
    "import torch\n",
    "import torchvision\n",
    "import torchvision.transforms as transforms\n",
    "\n",
    "import matplotlib.pyplot as plt\n",
    "import seaborn as sns\n",
    "from tqdm import tqdm\n",
    "\n",
    "import os, certifi\n",
    "from mtp.mheads._abc import AbstractDisributionHeadConfig\n",
    "from mtp.mheads import MHEADS\n",
    "os.environ[\"SSL_CERT_FILE\"] = certifi.where()"
   ]
  },
  {
   "cell_type": "code",
   "execution_count": 19,
   "id": "b34aecc5",
   "metadata": {},
   "outputs": [],
   "source": [
    "import torch, torch.nn.functional as F, matplotlib.pyplot as plt\n",
    "from IPython.display import display, update_display, HTML\n",
    "\n",
    "def qual_eval(model, handle=None, digit=0, shape=(28,28), clear=False, px=120):\n",
    "    if not hasattr(qual_eval, \"_store\"): qual_eval._store = {}\n",
    "    if clear and handle is not None:\n",
    "        update_display(HTML(\"\"), display_id=handle.display_id)\n",
    "        qual_eval._store.pop(handle.display_id, None); return handle\n",
    "\n",
    "    dev = next(model.parameters()).device\n",
    "    with torch.no_grad():\n",
    "        z = F.one_hot(torch.tensor([digit], device=dev), num_classes=10).float()\n",
    "        img = model.generate(z)[0].detach().cpu().view(*shape).numpy()\n",
    "\n",
    "    new = handle is None or getattr(handle, \"display_id\", None) not in qual_eval._store\n",
    "    if new:\n",
    "        dpi = 100\n",
    "        fig, ax = plt.subplots(figsize=(px/dpi, px/dpi), dpi=dpi)\n",
    "        im = ax.imshow(img, cmap=\"gray\", interpolation=\"nearest\")\n",
    "        ax.axis(\"off\"); fig.subplots_adjust(0,0,1,1)\n",
    "        handle = display(fig, display_id=True); plt.close(fig)\n",
    "        qual_eval._store[handle.display_id] = (im, fig)\n",
    "    else:\n",
    "        im, fig = qual_eval._store[handle.display_id]\n",
    "        im.set_data(img)\n",
    "        # resize if px changed\n",
    "        fig.set_size_inches(px/fig.dpi, px/fig.dpi)\n",
    "        update_display(fig, display_id=handle.display_id)\n",
    "    return handle\n"
   ]
  },
  {
   "cell_type": "code",
   "execution_count": 20,
   "id": "af4fdfa0",
   "metadata": {},
   "outputs": [
    {
     "name": "stdout",
     "output_type": "stream",
     "text": [
      "Training set has 60000 instances\n",
      "Validation set has 10000 instances\n"
     ]
    }
   ],
   "source": [
    "# Make the image binary: threshold at 0.5 after ToTensor, then convert to long (int)\n",
    "transform = transforms.Compose([transforms.ToTensor(), lambda x: (x > 0.5).long()])\n",
    "\n",
    "# Create datasets for training & validation, download if necessary\n",
    "training_set = torchvision.datasets.MNIST(\n",
    "    \"./data\", train=True, transform=transform, download=True\n",
    ")\n",
    "validation_set = torchvision.datasets.MNIST(\n",
    "    \"./data\", train=False, transform=transform, download=True\n",
    ")\n",
    "\n",
    "# Create data loaders for our datasets; shuffle for training, not for validation\n",
    "training_loader = torch.utils.data.DataLoader(training_set, batch_size=4, shuffle=True)\n",
    "validation_loader = torch.utils.data.DataLoader(\n",
    "    validation_set, batch_size=4, shuffle=False\n",
    ")\n",
    "\n",
    "# Report split sizes\n",
    "print(\"Training set has {} instances\".format(len(training_set)))\n",
    "print(\"Validation set has {} instances\".format(len(validation_set)))"
   ]
  },
  {
   "cell_type": "code",
   "execution_count": 21,
   "id": "5c5747d4",
   "metadata": {},
   "outputs": [
    {
     "data": {
      "image/png": "[encoded data removed]",
      "text/plain": [
       "<Figure size 480x150 with 4 Axes>"
      ]
     },
     "metadata": {},
     "output_type": "display_data"
    }
   ],
   "source": [
    "# Get the first batch from the training loader\n",
    "dataiter = iter(training_loader)\n",
    "images, labels = next(dataiter)\n",
    "\n",
    "# Show up to the first 10 images in the batch using seaborn\n",
    "num_images = min(10, images.shape[0])\n",
    "plt.figure(figsize=(num_images * 1.2, 1.5))  # Make images smaller\n",
    "\n",
    "for i in range(num_images):\n",
    "    plt.subplot(1, num_images, i + 1)\n",
    "    img = images[i].squeeze().numpy()\n",
    "    sns.heatmap(img, cmap='gray', cbar=False, xticklabels=False, yticklabels=False, square=True)\n",
    "    plt.title(f\"{labels[i].item()}\", fontsize=8)\n",
    "    plt.axis('off')\n",
    "\n",
    "plt.suptitle(\"First Batch Images (Labels shown above)\", y=1.05)\n",
    "plt.tight_layout()\n",
    "plt.show()\n"
   ]
  },
  {
   "cell_type": "code",
   "execution_count": 22,
   "id": "40b5571c",
   "metadata": {},
   "outputs": [
    {
     "name": "stderr",
     "output_type": "stream",
     "text": [
      "  0%|          | 0/15000 [00:00<?, ?it/s, loss=0.936]"
     ]
    },
    {
     "data": {
      "image/png": "[encoded data removed]",
      "text/plain": [
       "<Figure size 120x120 with 1 Axes>"
      ]
     },
     "metadata": {},
     "output_type": "display_data"
    },
    {
     "name": "stderr",
     "output_type": "stream",
     "text": [
      "  6%|▋         | 974/15000 [13:57<3:21:02,  1.16it/s, loss=0.254]\n"
     ]
    },
    {
     "ename": "KeyboardInterrupt",
     "evalue": "",
     "output_type": "error",
     "traceback": [
      "\u001b[0;31m---------------------------------------------------------------------------\u001b[0m",
      "\u001b[0;31mKeyboardInterrupt\u001b[0m                         Traceback (most recent call last)",
      "Cell \u001b[0;32mIn[22], line 41\u001b[0m\n\u001b[1;32m     39\u001b[0m     pbar\u001b[38;5;241m.\u001b[39mset_postfix(loss\u001b[38;5;241m=\u001b[39mloss\u001b[38;5;241m.\u001b[39mitem())\n\u001b[1;32m     40\u001b[0m     \u001b[38;5;66;03m# Sample\u001b[39;00m\n\u001b[0;32m---> 41\u001b[0m     h \u001b[38;5;241m=\u001b[39m \u001b[43mqual_eval\u001b[49m\u001b[43m(\u001b[49m\u001b[43mmodel\u001b[49m\u001b[43m,\u001b[49m\u001b[43m \u001b[49m\u001b[43mh\u001b[49m\u001b[43m,\u001b[49m\u001b[43m \u001b[49m\u001b[43mdigit\u001b[49m\u001b[38;5;241;43m=\u001b[39;49m\u001b[38;5;241;43m0\u001b[39;49m\u001b[43m)\u001b[49m   \u001b[38;5;66;03m# reuse same output cell\u001b[39;00m\n\u001b[1;32m     42\u001b[0m \u001b[38;5;28mprint\u001b[39m(\u001b[38;5;124mf\u001b[39m\u001b[38;5;124m\"\u001b[39m\u001b[38;5;124mEpoch \u001b[39m\u001b[38;5;132;01m{\u001b[39;00mepoch\u001b[38;5;241m+\u001b[39m\u001b[38;5;241m1\u001b[39m\u001b[38;5;132;01m}\u001b[39;00m\u001b[38;5;124m | Loss: \u001b[39m\u001b[38;5;132;01m{\u001b[39;00mloss\u001b[38;5;241m.\u001b[39mitem()\u001b[38;5;132;01m}\u001b[39;00m\u001b[38;5;124m\"\u001b[39m)\n",
      "Cell \u001b[0;32mIn[19], line 13\u001b[0m, in \u001b[0;36mqual_eval\u001b[0;34m(model, handle, digit, shape, clear, px)\u001b[0m\n\u001b[1;32m     11\u001b[0m \u001b[38;5;28;01mwith\u001b[39;00m torch\u001b[38;5;241m.\u001b[39mno_grad():\n\u001b[1;32m     12\u001b[0m     z \u001b[38;5;241m=\u001b[39m F\u001b[38;5;241m.\u001b[39mone_hot(torch\u001b[38;5;241m.\u001b[39mtensor([digit], device\u001b[38;5;241m=\u001b[39mdev), num_classes\u001b[38;5;241m=\u001b[39m\u001b[38;5;241m10\u001b[39m)\u001b[38;5;241m.\u001b[39mfloat()\n\u001b[0;32m---> 13\u001b[0m     img \u001b[38;5;241m=\u001b[39m \u001b[43mmodel\u001b[49m\u001b[38;5;241;43m.\u001b[39;49m\u001b[43mgenerate\u001b[49m\u001b[43m(\u001b[49m\u001b[43mz\u001b[49m\u001b[43m)\u001b[49m[\u001b[38;5;241m0\u001b[39m]\u001b[38;5;241m.\u001b[39mdetach()\u001b[38;5;241m.\u001b[39mcpu()\u001b[38;5;241m.\u001b[39mview(\u001b[38;5;241m*\u001b[39mshape)\u001b[38;5;241m.\u001b[39mnumpy()\n\u001b[1;32m     15\u001b[0m new \u001b[38;5;241m=\u001b[39m handle \u001b[38;5;129;01mis\u001b[39;00m \u001b[38;5;28;01mNone\u001b[39;00m \u001b[38;5;129;01mor\u001b[39;00m \u001b[38;5;28mgetattr\u001b[39m(handle, \u001b[38;5;124m\"\u001b[39m\u001b[38;5;124mdisplay_id\u001b[39m\u001b[38;5;124m\"\u001b[39m, \u001b[38;5;28;01mNone\u001b[39;00m) \u001b[38;5;129;01mnot\u001b[39;00m \u001b[38;5;129;01min\u001b[39;00m qual_eval\u001b[38;5;241m.\u001b[39m_store\n\u001b[1;32m     16\u001b[0m \u001b[38;5;28;01mif\u001b[39;00m new:\n",
      "File \u001b[0;32m~/Documents/github/mtl/mtp/mheads/moe_proj.py:137\u001b[0m, in \u001b[0;36mMoEProjector.generate\u001b[0;34m(self, x, do_sample)\u001b[0m\n\u001b[1;32m    134\u001b[0m \u001b[38;5;28;01mfor\u001b[39;00m h \u001b[38;5;129;01min\u001b[39;00m \u001b[38;5;28mrange\u001b[39m(H):\n\u001b[1;32m    135\u001b[0m     \u001b[38;5;66;03m# Compute log P(y_h | x, y_1, ..., y_h-1)\u001b[39;00m\n\u001b[1;32m    136\u001b[0m     lsm_a \u001b[38;5;241m=\u001b[39m torch\u001b[38;5;241m.\u001b[39mlog_softmax(alphas_tilde, dim\u001b[38;5;241m=\u001b[39m\u001b[38;5;241m-\u001b[39m\u001b[38;5;241m1\u001b[39m)\u001b[38;5;241m.\u001b[39munsqueeze(\u001b[38;5;241m-\u001b[39m\u001b[38;5;241m1\u001b[39m)  \u001b[38;5;66;03m# (B, R, 1)\u001b[39;00m\n\u001b[0;32m--> 137\u001b[0m     lsm_cp \u001b[38;5;241m=\u001b[39m \u001b[43mcp_params_tilde\u001b[49m\u001b[38;5;241;43m.\u001b[39;49m\u001b[43mlog_softmax\u001b[49m\u001b[43m(\u001b[49m\u001b[43mdim\u001b[49m\u001b[38;5;241;43m=\u001b[39;49m\u001b[38;5;241;43m-\u001b[39;49m\u001b[38;5;241;43m1\u001b[39;49m\u001b[43m)\u001b[49m  \u001b[38;5;66;03m# (B, R, H, V)\u001b[39;00m\n\u001b[1;32m    138\u001b[0m     lsm_select \u001b[38;5;241m=\u001b[39m lsm_cp\u001b[38;5;241m.\u001b[39mgather(  \u001b[38;5;66;03m# (B, R, H, V) before gather\u001b[39;00m\n\u001b[1;32m    139\u001b[0m         dim\u001b[38;5;241m=\u001b[39m\u001b[38;5;241m-\u001b[39m\u001b[38;5;241m1\u001b[39m,\n\u001b[1;32m    140\u001b[0m         index\u001b[38;5;241m=\u001b[39my_out[:, :h]\u001b[38;5;241m.\u001b[39munsqueeze(\u001b[38;5;241m1\u001b[39m)\u001b[38;5;241m.\u001b[39munsqueeze(\u001b[38;5;241m-\u001b[39m\u001b[38;5;241m1\u001b[39m)\u001b[38;5;241m.\u001b[39mexpand(\u001b[38;5;241m-\u001b[39m\u001b[38;5;241m1\u001b[39m, R, \u001b[38;5;241m-\u001b[39m\u001b[38;5;241m1\u001b[39m, \u001b[38;5;241m-\u001b[39m\u001b[38;5;241m1\u001b[39m),\n\u001b[1;32m    141\u001b[0m     )\u001b[38;5;241m.\u001b[39msum(\n\u001b[1;32m    142\u001b[0m         dim\u001b[38;5;241m=\u001b[39m\u001b[38;5;241m-\u001b[39m\u001b[38;5;241m2\u001b[39m\n\u001b[1;32m    143\u001b[0m     )  \u001b[38;5;66;03m# (B, R, 1)\u001b[39;00m\n\u001b[1;32m    144\u001b[0m     lsm_free \u001b[38;5;241m=\u001b[39m lsm_cp[:, :, h]  \u001b[38;5;66;03m# (B, R, V)\u001b[39;00m\n",
      "\u001b[0;31mKeyboardInterrupt\u001b[0m: "
     ]
    }
   ],
   "source": [
    "# HPs\n",
    "num_epochs = 5\n",
    "lr = 0.001  \n",
    "\n",
    "model = MHEADS[\"moe_proj\"](\n",
    "    AbstractDisributionHeadConfig(\n",
    "        horizon=784,\n",
    "        d_model=10,  # 9 digits\n",
    "        d_output=2,  # 2 classes\n",
    "        rank=32,\n",
    "        pos_func='abs',\n",
    "    )\n",
    ")\n",
    "\n",
    "device = torch.device(\"cuda\" if torch.cuda.is_available() else \"cpu\")\n",
    "model.to(device)\n",
    "optimizer = torch.optim.Adam(model.parameters(), lr=lr)\n",
    "h=None\n",
    "for epoch in range(num_epochs):\n",
    "    pbar = tqdm(training_loader)\n",
    "    model.train()\n",
    "    for batch in pbar:\n",
    "        y, x = batch  # for gen modelling reverse x, y\n",
    "        B = x.shape[0]\n",
    "        z = (\n",
    "            torch.nn.functional.one_hot(\n",
    "                x,\n",
    "                num_classes=10,\n",
    "            )\n",
    "            .reshape(B, -1)\n",
    "            .to(torch.float32)\n",
    "        )  # (B, 10)\n",
    "        z, y = z.to(device), y.to(device)\n",
    "        output = model(z, y.reshape(B, -1))\n",
    "        loss = output.loss\n",
    "        loss.backward()\n",
    "        optimizer.step()\n",
    "        optimizer.zero_grad()\n",
    "        pbar.set_postfix(loss=loss.item())\n",
    "        # Sample\n",
    "        h = qual_eval(model, h, digit=0)   # reuse same output cell\n",
    "    print(f\"Epoch {epoch+1} | Loss: {loss.item()}\")\n",
    "\n",
    "\n",
    "    "
   ]
  },
  {
   "cell_type": "code",
   "execution_count": 29,
   "id": "3d53c5c7",
   "metadata": {},
   "outputs": [
    {
     "data": {
      "text/plain": [
       "<DisplayHandle display_id=ad7f61317a3349a004928072b23f404b>"
      ]
     },
     "execution_count": 29,
     "metadata": {},
     "output_type": "execute_result"
    }
   ],
   "source": [
    "# Sample\n",
    "qual_eval(model, h, digit=0)"
   ]
  }
 ],
 "metadata": {
  "kernelspec": {
   "display_name": ".venv",
   "language": "python",
   "name": "python3"
  },
  "language_info": {
   "codemirror_mode": {
    "name": "ipython",
    "version": 3
   },
   "file_extension": ".py",
   "mimetype": "text/x-python",
   "name": "python",
   "nbconvert_exporter": "python",
   "pygments_lexer": "ipython3",
   "version": "3.10.0"
  }
 },
 "nbformat": 4,
 "nbformat_minor": 5
}
