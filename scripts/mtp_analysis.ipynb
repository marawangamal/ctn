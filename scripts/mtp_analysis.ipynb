{
  "cells": [
    {
      "cell_type": "markdown",
      "metadata": {},
      "source": [
        "## Comparison between next token prediction (NTP) and multi-token prediction (MTP)\n",
        "\n",
        "Let true dist $p$ satisfy \n",
        "$$p(y_1| x) = \\sigma(W_a x)$$\n",
        "$$p(y_1, y_2| x) = \\sigma(W_a x) \\sigma(W_a x)^\\top$$ \n",
        "\n",
        "We then compare fitting $\\widehat{W}_a$ using two either of the two objectives:\n",
        "\n",
        "- $l^{(ntp)}(\\theta) = \\sum_{x,y_1} -\\log \\sigma(\\widehat{W}_a x)$ \n",
        "- $l^{(mtp)}(\\theta) =  \\sum_{x,y_1, y_2} -\\log \\sigma(\\widehat{W}_a x)_{y_1}  + -\\log \\sigma(\\widehat{W}_a x)_{y_1} \\sigma(\\widehat{W}_a x)_{y_2}$"
      ]
    },
    {
      "cell_type": "code",
      "execution_count": 284,
      "metadata": {
        "id": "3cD35joS2zCI"
      },
      "outputs": [],
      "source": [
        "import torch\n",
        "from typing import Optional\n",
        "from dataclasses import dataclass\n",
        "import torch.optim as optim\n",
        "import matplotlib.pyplot as plt\n",
        "import seaborn as sns"
      ]
    },
    {
      "cell_type": "code",
      "execution_count": null,
      "metadata": {
        "id": "qyOt1KT0QY2X"
      },
      "outputs": [],
      "source": [
        "# Set seed\n",
        "torch.manual_seed(42)\n",
        "\n",
        "# HPs\n",
        "lr = 1e-3\n",
        "batch_size = 32\n",
        "n_epochs = 10_000\n",
        "eval_every = 1000\n",
        "d_model, d_vocab = 32, 32\n",
        "\n",
        "# True model: maps x -> e1 ident dist)\n",
        "w_alpha = torch.zeros(d_vocab, d_model)\n",
        "w_alpha[0] = 1\n",
        "\n",
        "def get_samples(x, w, horizon=1):\n",
        "  # Return samples from p(y1, y2, ..., yH | x, w)\n",
        "  # x: (B, D), w: (V, D)\n",
        "  py_h_bar_x = torch.softmax(torch.einsum('bd, vd->bv', x, w), dim=-1)\n",
        "  # y = torch.multinomial(py_h_bar_x, num_samples=horizon) # (B, H)\n",
        "  y =torch.cat([torch.multinomial(py_h_bar_x, num_samples=1) for _ in range(horizon)], dim=-1)\n",
        "  return y"
      ]
    },
    {
      "cell_type": "code",
      "execution_count": 351,
      "metadata": {
        "id": "A74sXNBy4lHW"
      },
      "outputs": [],
      "source": [
        "@dataclass\n",
        "class ModelOutput:\n",
        "  logits: torch.Tensor\n",
        "  loss: Optional[torch.Tensor] = None\n",
        "  loss_dict: Optional[dict] = None"
      ]
    },
    {
      "cell_type": "code",
      "execution_count": null,
      "metadata": {
        "id": "9c4LFZL53c_4"
      },
      "outputs": [],
      "source": [
        "class ConditionalModel(torch.nn.Module):\n",
        "  def __init__(self, d_model, d_vocab):\n",
        "    super().__init__()\n",
        "    self.w_alpha_hat = torch.nn.Linear(d_model, d_vocab, bias=False)\n",
        "\n",
        "  def forward(self, x, y=None):\n",
        "    \"\"\"\n",
        "      Args:\n",
        "        x: Input features. Shape: (B, D)\n",
        "        y: Targets. Shape (B, 1)\n",
        "    \"\"\"\n",
        "    loss = None\n",
        "    logits = self.w_alpha_hat(x) # B,D -> B,V\n",
        "    loss_dict = {}\n",
        "    if y is not None:\n",
        "      loss = torch.nn.functional.cross_entropy(logits, y[:, 0])\n",
        "      loss_dict['loss_main'] = loss\n",
        "    return ModelOutput(loss=loss, logits=logits, loss_dict=loss_dict)\n",
        "\n",
        "\n",
        "\n",
        "class JointModel(torch.nn.Module):\n",
        "  def __init__(self, d_model, d_vocab, lam=0.0):\n",
        "    super().__init__()\n",
        "    self.w_alpha_hat = torch.nn.Linear(d_model, d_vocab, bias=False)\n",
        "    self.lam = lam\n",
        "\n",
        "  def get_aux_loss(self, x, y):\n",
        "    # y: (B, H)\n",
        "    B, H = y.shape\n",
        "    loss_aux = 0\n",
        "    for h in range(H):\n",
        "      logits = self.w_alpha_hat(x) # B,D -> B,V\n",
        "      loss_aux += torch.nn.functional.cross_entropy(logits, y[:, h])\n",
        "    return loss_aux\n",
        "\n",
        "  def forward(self, x, y=None):\n",
        "    \"\"\"\n",
        "      Args:\n",
        "        x: Input features. Shape: (B, D)\n",
        "        y: Targets. Shape (B, H)\n",
        "    \"\"\"\n",
        "    loss = None\n",
        "    logits = self.w_alpha_hat(x) # B,D -> B,V\n",
        "    loss_dict = {}\n",
        "    if y is not None:\n",
        "      loss_main = torch.nn.functional.cross_entropy(logits, y[:, 0])\n",
        "      loss_aux = self.get_aux_loss(x, y)*self.lam if self.lam > 0 else 0\n",
        "      loss = loss_main + loss_aux\n",
        "      loss_dict = {'loss_main': loss_main, 'loss_aux': loss_aux}\n",
        "    return ModelOutput(loss=loss, logits=logits, loss_dict=loss_dict)\n",
        "\n",
        "  def forward2(self, x, y=None):\n",
        "    \"\"\"\n",
        "      Args:\n",
        "        x: Input features. Shape: (B, D)\n",
        "        y: Targets. Shape (B, H)\n",
        "    \"\"\"\n",
        "    loss = None\n",
        "    logits = self.w_alpha_hat(x) # B,D -> B,V\n",
        "    loss_dict = {}\n",
        "    if y is not None:\n",
        "      loss = torch.nn.functional.cross_entropy(logits, y[:, 0])\n",
        "      loss_dict['loss_main'] = loss\n",
        "    return ModelOutput(loss=loss, logits=logits, loss_dict=loss_dict)\n",
        "\n"
      ]
    },
    {
      "cell_type": "code",
      "execution_count": 361,
      "metadata": {
        "colab": {
          "base_uri": "https://localhost:8080/"
        },
        "collapsed": true,
        "id": "XiHshVHy4_P9",
        "outputId": "25aa054c-1e74-431b-a03f-bcfbe105d991"
      },
      "outputs": [],
      "source": [
        "def run_train(models, batch_size, d_model, d_vocab, n_epochs, eval_every, lr, X=None):\n",
        "\n",
        "    for m in models:\n",
        "        # Define an optimizer\n",
        "        optimizer = optim.AdamW(m['model'].parameters(), lr=lr)\n",
        "\n",
        "        # Training loop (minimal example)\n",
        "        for epoch in range(n_epochs): # train for 10 epochs\n",
        "            optimizer.zero_grad()\n",
        "\n",
        "            # sample from true model\n",
        "            if X is None:\n",
        "                X = torch.randn(batch_size, d_model)\n",
        "            else:\n",
        "                indices = torch.randperm(X.shape[0])[:batch_size]\n",
        "                X = X[indices]\n",
        "            y = m['sample_fn'](X, w_alpha) # (B, H)\n",
        "\n",
        "            output = m['model'](X, y) # Forward pass\n",
        "            loss = output.loss\n",
        "            loss.backward() # Backward pass\n",
        "            optimizer.step() # Update weights\n",
        "\n",
        "            if (epoch + 1) % eval_every == 0:\n",
        "                X = torch.randn(1000, d_model)\n",
        "                y = m['sample_fn'](X, w_alpha) # (B, H)\n",
        "                output = m['model'](X, y) # Forward pass\n",
        "                acc = torch.softmax(output.logits, dim=-1).argmax(dim=-1) == y.argmax(dim=-1)\n",
        "                acc = acc.sum() / len(acc)\n",
        "                m['eval/accuracy'].append(acc.item())\n",
        "                m['eval/loss'].append(output.loss_dict['loss_main'].item())\n",
        "\n",
        "\n",
        "    return models"
      ]
    },
    {
      "cell_type": "code",
      "execution_count": 373,
      "metadata": {},
      "outputs": [],
      "source": [
        "# IMPORTANT: This cell runs HPO and can be skipped. Best HPs are:\n",
        "# [main] LR: 0.001 | Max acc: 0.49\n",
        "# [aux] LR: 0.001, LAM: 0.1 | Max acc: 0.40\n",
        "\n",
        "# # HPO:\n",
        "# for lr in [1e-3, 1e-4, 1e-5]:\n",
        "#     models = [\n",
        "#         {\n",
        "#             \"name\": \"main\", \n",
        "#             \"model\": ConditionalModel(d_model, d_vocab), \n",
        "#             \"sample_fn\": lambda x, w: get_samples(x, w, horizon=1), \n",
        "#             \"eval/accuracy\": [],\n",
        "#             \"eval/loss\": [],\n",
        "#         },\n",
        "#     ]\n",
        "\n",
        "#     run_train(models[:1], batch_size, d_model, d_vocab, n_epochs, eval_every, lr)\n",
        "#     print(f\"[main] LR: {lr} | Max acc: {max(models[0]['eval/accuracy']):.2f}\")\n",
        "\n",
        "# for lr, lam in itertools.product([1e-3, 1e-4, 1e-5], [0, 0.1, 0.5, 1]):\n",
        "#     models = [\n",
        "#         {\n",
        "#             \"name\": \"aux\", \n",
        "#             \"model\": JointModel(d_model, d_vocab, lam=lam),\n",
        "#             \"sample_fn\": lambda x, w: get_samples(x, w, horizon=2), \n",
        "#             \"eval/accuracy\": [],\n",
        "#             \"eval/loss\": [],\n",
        "#         }\n",
        "#     ]\n",
        "#     run_train(models[:1], batch_size, d_model, d_vocab, n_epochs, eval_every, lr)\n",
        "#     print(f\"[aux] LR: {lr}, LAM: {lam} | Max acc: {max(models[0]['eval/accuracy']):.2f}\")\n"
      ]
    },
    {
      "cell_type": "markdown",
      "metadata": {},
      "source": [
        "### Infinite data setting"
      ]
    },
    {
      "cell_type": "code",
      "execution_count": 392,
      "metadata": {},
      "outputs": [
        {
          "name": "stdout",
          "output_type": "stream",
          "text": [
            "Setting w_alpha_hat for main\n",
            "Setting w_alpha_hat for aux\n"
          ]
        }
      ],
      "source": [
        "# Best HPs:\n",
        "# [main] LR: 0.001 | Max acc: 0.49\n",
        "# [aux] LR: 0.001, LAM: 0.1 | Max acc: 0.40\n",
        "models = [\n",
        "    {\n",
        "        \"name\": \"main\", \n",
        "        \"model\": ConditionalModel(d_model, d_vocab), \n",
        "        \"sample_fn\": lambda x, w: get_samples(x, w, horizon=1), \n",
        "        \"eval/accuracy\": [],\n",
        "        \"eval/loss\": [],\n",
        "    },\n",
        "    {\n",
        "        \"name\": \"aux\", \n",
        "        \"model\": JointModel(d_model, d_vocab, lam=0.0),\n",
        "        \"sample_fn\": lambda x, w: get_samples(x, w, horizon=2), \n",
        "        \"eval/accuracy\": [],\n",
        "        \"eval/loss\": [],\n",
        "    }\n",
        "]\n",
        "# Start from same init for w_alpha_hat\n",
        "w_alpha_hat = torch.randn(d_vocab, d_model)\n",
        "for m in models:\n",
        "    print(f\"Setting w_alpha_hat for {m['name']}\")\n",
        "    m['model'].w_alpha_hat.weight.data = w_alpha_hat.clone().detach()\n",
        "models = run_train(models, batch_size, d_model, d_vocab, n_epochs, eval_every, lr=1e-3)"
      ]
    },
    {
      "cell_type": "code",
      "execution_count": 390,
      "metadata": {},
      "outputs": [
        {
          "name": "stdout",
          "output_type": "stream",
          "text": [
            "aux\n",
            "main\n"
          ]
        }
      ],
      "source": [
        "dfs = []\n",
        "for m in models:\n",
        "    print(m['name'])\n",
        "    df_i = pd.DataFrame({'epoch': range(len(m['eval/accuracy'])), 'eval/accuracy': m['eval/accuracy'], 'eval/loss': m['eval/loss'], 'name': m['name']})\n",
        "    dfs.append(df_i)    \n",
        "df = pd.concat(dfs)"
      ]
    },
    {
      "cell_type": "code",
      "execution_count": 391,
      "metadata": {},
      "outputs": [
        {
          "data": {
            "image/png": "[encoded data removed]",
            "text/plain": [
              "<Figure size 1200x500 with 2 Axes>"
            ]
          },
          "metadata": {},
          "output_type": "display_data"
        }
      ],
      "source": [
        "fig, axes = plt.subplots(1, 2, figsize=(12, 5))  # 1 row, 2 columns\n",
        "\n",
        "sns.lineplot(data=df, x=\"epoch\", y=\"eval/loss\", hue=\"name\", ax=axes[0])\n",
        "axes[0].set_title(\"Loss\")\n",
        "\n",
        "sns.lineplot(data=df, x=\"epoch\", y=\"eval/accuracy\", hue=\"name\", ax=axes[1])\n",
        "axes[1].set_title(\"Accuracy\")\n",
        "\n",
        "plt.tight_layout()\n",
        "plt.show()\n"
      ]
    },
    {
      "cell_type": "markdown",
      "metadata": {},
      "source": [
        "### Limited data setting"
      ]
    },
    {
      "cell_type": "code",
      "execution_count": 357,
      "metadata": {},
      "outputs": [
        {
          "name": "stdout",
          "output_type": "stream",
          "text": [
            "Setting w_alpha_hat for main\n",
            "Setting w_alpha_hat for aux\n",
            "Setting w_alpha_hat for main\n",
            "Setting w_alpha_hat for aux\n",
            "Setting w_alpha_hat for main\n",
            "Setting w_alpha_hat for aux\n"
          ]
        }
      ],
      "source": [
        "# Best HPs:\n",
        "# [main] LR: 0.001 | Max acc: 0.49\n",
        "# [aux] LR: 0.001, LAM: 0.1 | Max acc: 0.40\n",
        "models = [\n",
        "    {\n",
        "        \"name\": \"main\", \n",
        "        \"model\": ConditionalModel(d_model, d_vocab), \n",
        "        \"sample_fn\": lambda x, w: get_samples(x, w, horizon=1), \n",
        "        \"eval/accuracy\": [],\n",
        "        \"eval/loss\": [],\n",
        "        \"eval/best_accs\": [],\n",
        "        \"n_samples\": [],\n",
        "    },\n",
        "    {\n",
        "        \"name\": \"aux\", \n",
        "        \"model\": JointModel(d_model, d_vocab, lam=0.1),\n",
        "        \"sample_fn\": lambda x, w: get_samples(x, w, horizon=2), \n",
        "        \"eval/accuracy\": [],\n",
        "        \"eval/loss\": [],\n",
        "        \"eval/best_accs\": [],\n",
        "        \"n_samples\": [],\n",
        "    }\n",
        "]\n",
        "for n_samples in [10, 100, 1000]:\n",
        "    X = torch.randn(n_samples, d_model)\n",
        "    # Start from same init for w_alpha_hat\n",
        "    w_alpha_hat = torch.randn(d_vocab, d_model)\n",
        "    for m in models:\n",
        "        print(f\"Setting w_alpha_hat for {m['name']}\")\n",
        "        m['model'].w_alpha_hat.weight.data = w_alpha_hat.clone().detach()\n",
        "\n",
        "    # Run training\n",
        "    models = run_train(models, batch_size, d_model, d_vocab, n_epochs, eval_every, lr=1e-3, X=X)\n",
        "\n",
        "    # Add best accuracy \n",
        "    for m in models:\n",
        "        m['eval/best_accs'].append(max(m['eval/accuracy']))\n",
        "        m['n_samples'].append(n_samples)\n"
      ]
    },
    {
      "cell_type": "code",
      "execution_count": null,
      "metadata": {},
      "outputs": [],
      "source": []
    }
  ],
  "metadata": {
    "colab": {
      "provenance": []
    },
    "kernelspec": {
      "display_name": ".venv",
      "language": "python",
      "name": "python3"
    },
    "language_info": {
      "codemirror_mode": {
        "name": "ipython",
        "version": 3
      },
      "file_extension": ".py",
      "mimetype": "text/x-python",
      "name": "python",
      "nbconvert_exporter": "python",
      "pygments_lexer": "ipython3",
      "version": "3.10.0"
    }
  },
  "nbformat": 4,
  "nbformat_minor": 0
}
